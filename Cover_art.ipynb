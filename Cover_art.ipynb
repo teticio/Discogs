{
 "cells": [
  {
   "cell_type": "code",
   "execution_count": 3,
   "metadata": {},
   "outputs": [],
   "source": [
    "import os\n",
    "import csv\n",
    "import json\n",
    "import pickle\n",
    "import requests\n",
    "from time import sleep"
   ]
  },
  {
   "cell_type": "markdown",
   "metadata": {},
   "source": [
    "Consumer Key\tXZoHfEhHTquhRinLcNrS\n",
    "Consumer Secret\tQozVgMYFgZkYwcCdXNOhApHklUlVKUxe\n",
    "Request Token URL\thttps://api.discogs.com/oauth/request_token\n",
    "Authorize URL\thttps://www.discogs.com/oauth/authorize\n",
    "Access Token URL\thttps://api.discogs.com/oauth/access_token"
   ]
  },
  {
   "cell_type": "code",
   "execution_count": 4,
   "metadata": {},
   "outputs": [],
   "source": [
    "key = 'XZoHfEhHTquhRinLcNrS'\n",
    "secret = 'QozVgMYFgZkYwcCdXNOhApHklUlVKUxe'"
   ]
  },
  {
   "cell_type": "markdown",
   "metadata": {},
   "source": [
    "### Get release thumbs by artist (much faster)"
   ]
  },
  {
   "cell_type": "code",
   "execution_count": 57,
   "metadata": {},
   "outputs": [],
   "source": [
    "release_info = {}"
   ]
  },
  {
   "cell_type": "code",
   "execution_count": 58,
   "metadata": {},
   "outputs": [],
   "source": [
    "artist_id = 1 #1\n",
    "save_every = 10\n",
    "directory = 'thumbs2' ###################"
   ]
  },
  {
   "cell_type": "code",
   "execution_count": 59,
   "metadata": {},
   "outputs": [],
   "source": [
    "releases = set([_[6:-4] for _ in os.listdir(directory)])"
   ]
  },
  {
   "cell_type": "code",
   "execution_count": null,
   "metadata": {},
   "outputs": [
    {
     "name": "stdout",
     "output_type": "stream",
     "text": [
      "433356\r"
     ]
    }
   ],
   "source": [
    "while True:\n",
    "    print(len(releases), end='\\r')\n",
    "    if artist_id % save_every == 0:\n",
    "        pickle.dump(release_info, open('release_info.p', 'wb'))\n",
    "\n",
    "    while True:\n",
    "        sleep(1)\n",
    "        url = f'https://api.discogs.com/artists/{artist_id}/releases?key={key}&secret={secret}'\n",
    "        r = requests.get(url, headers={'User-agent': 'FooBarApp/3.0'})\n",
    "        if r.status_code == 200 or r.status_code == 404:\n",
    "            break\n",
    "    response = json.loads(r.text)\n",
    "    if 'message' in response and response['message'] == 'Artist not found.':\n",
    "        artist_id += 1\n",
    "        continue\n",
    "\n",
    "    for release in response.get('releases', []):\n",
    "        image_url = release.get('thumb', '')\n",
    "\n",
    "        id = release['main_release'] if release['type'] == 'master' else release['id']\n",
    "        if image_url != '' and str(id) not in releases:\n",
    "            artist = release.get('artist', '')\n",
    "            title = release.get('title', '')\n",
    "            release_info[str(id)] = (artist, title, image_url)\n",
    "\n",
    "            while True:\n",
    "                r = requests.get(image_url, headers={'User-agent': 'FooBarApp/3.0'})\n",
    "                if r.status_code == 200 or r.status_code == 404:\n",
    "                    break\n",
    "            if r.status_code == 200:\n",
    "                with open(f'{directory}/thumb_{id}.jpg', 'wb') as file:\n",
    "                    file.write(r.content)\n",
    "            releases.add(str(id))\n",
    "                \n",
    "    artist_id += 1"
   ]
  },
  {
   "cell_type": "code",
   "execution_count": null,
   "metadata": {},
   "outputs": [],
   "source": [
    "pickle.dump(release_info, open('release_info.p', 'wb'))"
   ]
  },
  {
   "cell_type": "code",
   "execution_count": 40,
   "metadata": {},
   "outputs": [
    {
     "data": {
      "text/plain": [
       "153329"
      ]
     },
     "execution_count": 40,
     "metadata": {},
     "output_type": "execute_result"
    }
   ],
   "source": [
    "artist_id"
   ]
  },
  {
   "cell_type": "code",
   "execution_count": null,
   "metadata": {},
   "outputs": [],
   "source": []
  }
 ],
 "metadata": {
  "kernelspec": {
   "display_name": "Python 3",
   "language": "python",
   "name": "python3"
  },
  "language_info": {
   "codemirror_mode": {
    "name": "ipython",
    "version": 3
   },
   "file_extension": ".py",
   "mimetype": "text/x-python",
   "name": "python",
   "nbconvert_exporter": "python",
   "pygments_lexer": "ipython3",
   "version": "3.8.5"
  }
 },
 "nbformat": 4,
 "nbformat_minor": 4
}
