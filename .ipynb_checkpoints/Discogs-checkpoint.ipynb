{
 "cells": [
  {
   "cell_type": "code",
   "execution_count": 3,
   "metadata": {},
   "outputs": [],
   "source": [
    "import csv\n",
    "import json\n",
    "import requests\n",
    "from time import sleep"
   ]
  },
  {
   "cell_type": "code",
   "execution_count": 4,
   "metadata": {},
   "outputs": [],
   "source": [
    "def follow_artist(artist_url, max_degree=None, degree=0, from_artist_id=None, from_release_id=None, reverse=False, relationship=None, role=''):\n",
    "    if artist_url == '':\n",
    "        return\n",
    "    while True:\n",
    "        sleep(2)\n",
    "        r = requests.get(artist_url, headers={'User-agent': 'FooBarApp/3.0'})\n",
    "        if r.status_code == 200 or r.status_code == 404:\n",
    "            break\n",
    "    response = json.loads(r.text)\n",
    "    if 'name' not in response or r.status_code == 404: # artist not found\n",
    "        return\n",
    "    artist_id = 'artist/' + artist_url[artist_url.rfind('/') + 1:]\n",
    "    if artist_url not in artists:\n",
    "        artists_writer.writerow({'id:ID': artist_id, 'name': response['name'].replace('\"', \"'\"), 'url': response['uri'], ':LABEL': 'ARTIST'})\n",
    "        artists_csvfile.flush()\n",
    "    from_id = from_artist_id if from_artist_id else from_release_id\n",
    "    if from_id:\n",
    "        if reverse:\n",
    "            relationships_writer.writerow({':START_ID': artist_id, 'role': '', ':END_ID': from_id, ':TYPE': relationship})\n",
    "        else:\n",
    "            relationships_writer.writerow({':START_ID': from_id, 'role': '', ':END_ID': artist_id, ':TYPE': relationship})\n",
    "    relationships_csvfile.flush()\n",
    "\n",
    "    if artist_url in artists:\n",
    "        return # I've been here before\n",
    "    artists[artist_url] = response['name']\n",
    "    print(f'{len(artists)}. {artists[artist_url]} {artist_url}')\n",
    "    if degree >= max_degree:\n",
    "        return\n",
    "    for alias in response.get('members', range(0, 0)):\n",
    "        follow_artist(alias['resource_url'], max_degree, degree + 1, from_artist_id=artist_id, relationship='PLAYED_IN', reverse=True)\n",
    "    for alias in response.get('aliases', range(0, 0)):\n",
    "        follow_artist(alias['resource_url'], max_degree, degree + 1, from_artist_id=artist_id, relationship='AKA')\n",
    "    for group in response.get('groups', range(0, 0)):\n",
    "        follow_artist(group['resource_url'], max_degree, degree + 1, from_artist_id=artist_id, relationship='PLAYED_IN')\n",
    "\n",
    "    while True:\n",
    "        sleep(2)\n",
    "        r = requests.get(response['releases_url'], headers={'User-agent': 'FooBarApp/3.0'})\n",
    "        if r.status_code == 200:\n",
    "            break\n",
    "    response_ = json.loads(r.text)\n",
    "    while True:\n",
    "        for release in response_['releases']:\n",
    "            release_url = release['resource_url']\n",
    "            \n",
    "            while True:\n",
    "                sleep(2)\n",
    "                r = requests.get(release_url, headers={'User-agent': 'FooBarApp/3.0'})\n",
    "                if r.status_code == 200:\n",
    "                    break\n",
    "            response__ = json.loads(r.text)\n",
    "            release_id = 'release/' + release_url[release_url.rfind('/') + 1:]\n",
    "            if release_url not in releases:\n",
    "                releases_writer.writerow({'id:ID': release_id, 'name': release['title'].replace('\"', \"'\"), 'url': response__['uri'], ':LABEL': 'RELEASE'})\n",
    "                releases_csvfile.flush()\n",
    "            relationships_writer.writerow({':START_ID': artist_id, 'role': '', ':END_ID': release_id, ':TYPE': 'APPEARS_ON'})\n",
    "            relationships_csvfile.flush()\n",
    "\n",
    "            if release_url in releases:\n",
    "                continue # I've been here before\n",
    "            releases[release_url] = release['title']\n",
    "            for track in response__.get('tracklist', range(0, 0)):\n",
    "                for artist in track.get('artists', range(0, 0)):\n",
    "                    follow_artist(artist['resource_url'], max_degree, degree + 1, from_release_id=release_id, role=artist.get('role', ''), relationship='APPEARS_ON', reverse=True)\n",
    "                for extraartist in track.get('extraartists', range(0, 0)):\n",
    "                    follow_artist(extraartist['resource_url'], max_degree, degree + 1, from_release_id=release_id, role=extraartist.get('role', ''), relationship='APPEARS_ON', reverse=True)\n",
    "\n",
    "        if 'next' not in response_['pagination']['urls']:\n",
    "            break\n",
    "        while True:\n",
    "            sleep(2)\n",
    "            r = requests.get(response_['pagination']['urls']['next'], headers={'User-agent': 'FooBarApp/3.0'})\n",
    "            if r.status_code == 200:\n",
    "                break\n",
    "        response_ = json.loads(r.text)"
   ]
  },
  {
   "cell_type": "code",
   "execution_count": 5,
   "metadata": {},
   "outputs": [],
   "source": [
    "artists = {}\n",
    "releases = {}\n",
    "\n",
    "artists_csvfile = open('artists-header.csv', 'wt', newline='')\n",
    "fieldnames = ['id:ID', 'name', 'url', ':LABEL']\n",
    "artists_writer = csv.DictWriter(artists_csvfile, fieldnames=fieldnames, quoting=csv.QUOTE_ALL)\n",
    "artists_writer.writeheader()\n",
    "artists_csvfile.close()\n",
    "artists_csvfile = open('artists.csv', 'wt', newline='')\n",
    "artists_writer = csv.DictWriter(artists_csvfile, fieldnames=fieldnames, quoting=csv.QUOTE_ALL)\n",
    "\n",
    "releases_csvfile = open('releases-header.csv', 'wt', newline='')\n",
    "fieldnames = ['id:ID', 'name', 'url', ':LABEL']\n",
    "releases_writer = csv.DictWriter(releases_csvfile, fieldnames=fieldnames, quoting=csv.QUOTE_ALL)\n",
    "releases_writer.writeheader()\n",
    "releases_csvfile.close()\n",
    "releases_csvfile = open('releases.csv', 'wt', newline='')\n",
    "releases_writer = csv.DictWriter(releases_csvfile, fieldnames=fieldnames, quoting=csv.QUOTE_ALL)\n",
    "\n",
    "relationships_csvfile = open('relationships-header.csv', 'wt', newline='')\n",
    "fieldnames=[':START_ID', 'role', ':END_ID', ':TYPE']\n",
    "relationships_writer = csv.DictWriter(relationships_csvfile, fieldnames=fieldnames, quoting=csv.QUOTE_ALL)\n",
    "relationships_writer.writeheader()\n",
    "relationships_csvfile.close()\n",
    "relationships_csvfile = open('relationships.csv', 'wt', newline='')\n",
    "relationships_writer = csv.DictWriter(relationships_csvfile, fieldnames=fieldnames, quoting=csv.QUOTE_ALL)"
   ]
  },
  {
   "cell_type": "code",
   "execution_count": null,
   "metadata": {},
   "outputs": [
    {
     "name": "stdout",
     "output_type": "stream",
     "text": [
      "1. MF Doom https://api.discogs.com/artists/25058\n"
     ]
    }
   ],
   "source": [
    "follow_artist('https://api.discogs.com/artists/25058', max_degree=2)"
   ]
  },
  {
   "cell_type": "code",
   "execution_count": null,
   "metadata": {},
   "outputs": [],
   "source": [
    "artists_csvfile.close()\n",
    "releases_csvfile.close()\n",
    "relationships_csvfile.close()"
   ]
  },
  {
   "cell_type": "raw",
   "metadata": {},
   "source": [
    "# enterprise version of Neo4J\n",
    "sudo neo4j stop\n",
    "cd /var/lib/neo4j/data/databases\n",
    "sudo su neo4j\n",
    "cd\n",
    "rm -rf discogs\n",
    "neo4j-admin import --database=discogs --nodes=\"/home/teticio/ML/Discogs/artists-header.csv,/home/teticio/ML/Discogs/artists.csv\" --nodes=\"/home/teticio/ML/Discogs/releases-header.csv,/home/teticio/ML/Discogs/releases.csv\" --relationships=\"/home/teticio/ML/Discogs/relationships-header.csv,/home/teticio/ML/Discogs/relationships.csv\"\n",
    "sudo neo4j start\n",
    "USE SYSTEM\n",
    "DROP DATABASE discogs\n",
    "CREATE DATABASE discogs\n",
    "START DATABASE discogs"
   ]
  }
 ],
 "metadata": {
  "kernelspec": {
   "display_name": "Python 3",
   "language": "python",
   "name": "python3"
  },
  "language_info": {
   "codemirror_mode": {
    "name": "ipython",
    "version": 3
   },
   "file_extension": ".py",
   "mimetype": "text/x-python",
   "name": "python",
   "nbconvert_exporter": "python",
   "pygments_lexer": "ipython3",
   "version": "3.8.5"
  }
 },
 "nbformat": 4,
 "nbformat_minor": 4
}
